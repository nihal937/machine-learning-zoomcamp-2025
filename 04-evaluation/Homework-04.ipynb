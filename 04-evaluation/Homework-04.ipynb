{
 "cells": [
  {
   "cell_type": "code",
   "execution_count": 1,
   "id": "4dbeb211-1fdc-4e79-89f9-b8f66dc801b6",
   "metadata": {},
   "outputs": [],
   "source": [
    "import pandas as pd\n",
    "import numpy as np\n",
    "\n",
    "import matplotlib.pyplot as plt"
   ]
  },
  {
   "cell_type": "code",
   "execution_count": 38,
   "id": "3f63700a-8b00-4721-90d8-56137acb7726",
   "metadata": {},
   "outputs": [],
   "source": [
    "from sklearn.model_selection import train_test_split\n",
    "from sklearn.feature_extraction import DictVectorizer\n",
    "from sklearn.linear_model import LogisticRegression\n",
    "from sklearn.metrics import precision_score, recall_score\n",
    "from sklearn.model_selection import KFold"
   ]
  },
  {
   "cell_type": "code",
   "execution_count": 3,
   "id": "bbcd040f-f36d-4a79-b58c-cf0c005534f9",
   "metadata": {},
   "outputs": [],
   "source": [
    "#!wget https://raw.githubusercontent.com/alexeygrigorev/datasets/master/course_lead_scoring.csv"
   ]
  },
  {
   "cell_type": "code",
   "execution_count": 4,
   "id": "2ae6833a-7680-420a-81ba-07db7f9a758d",
   "metadata": {},
   "outputs": [],
   "source": [
    "df = pd.read_csv('course_lead_scoring.csv')"
   ]
  },
  {
   "cell_type": "code",
   "execution_count": 5,
   "id": "89558f35-4ea3-487a-83d8-e4ee6bc32eee",
   "metadata": {},
   "outputs": [
    {
     "data": {
      "text/html": [
       "<div>\n",
       "<style scoped>\n",
       "    .dataframe tbody tr th:only-of-type {\n",
       "        vertical-align: middle;\n",
       "    }\n",
       "\n",
       "    .dataframe tbody tr th {\n",
       "        vertical-align: top;\n",
       "    }\n",
       "\n",
       "    .dataframe thead th {\n",
       "        text-align: right;\n",
       "    }\n",
       "</style>\n",
       "<table border=\"1\" class=\"dataframe\">\n",
       "  <thead>\n",
       "    <tr style=\"text-align: right;\">\n",
       "      <th></th>\n",
       "      <th>lead_source</th>\n",
       "      <th>industry</th>\n",
       "      <th>number_of_courses_viewed</th>\n",
       "      <th>annual_income</th>\n",
       "      <th>employment_status</th>\n",
       "      <th>location</th>\n",
       "      <th>interaction_count</th>\n",
       "      <th>lead_score</th>\n",
       "      <th>converted</th>\n",
       "    </tr>\n",
       "  </thead>\n",
       "  <tbody>\n",
       "    <tr>\n",
       "      <th>0</th>\n",
       "      <td>paid_ads</td>\n",
       "      <td>NaN</td>\n",
       "      <td>1</td>\n",
       "      <td>79450.0</td>\n",
       "      <td>unemployed</td>\n",
       "      <td>south_america</td>\n",
       "      <td>4</td>\n",
       "      <td>0.94</td>\n",
       "      <td>1</td>\n",
       "    </tr>\n",
       "    <tr>\n",
       "      <th>1</th>\n",
       "      <td>social_media</td>\n",
       "      <td>retail</td>\n",
       "      <td>1</td>\n",
       "      <td>46992.0</td>\n",
       "      <td>employed</td>\n",
       "      <td>south_america</td>\n",
       "      <td>1</td>\n",
       "      <td>0.80</td>\n",
       "      <td>0</td>\n",
       "    </tr>\n",
       "    <tr>\n",
       "      <th>2</th>\n",
       "      <td>events</td>\n",
       "      <td>healthcare</td>\n",
       "      <td>5</td>\n",
       "      <td>78796.0</td>\n",
       "      <td>unemployed</td>\n",
       "      <td>australia</td>\n",
       "      <td>3</td>\n",
       "      <td>0.69</td>\n",
       "      <td>1</td>\n",
       "    </tr>\n",
       "    <tr>\n",
       "      <th>3</th>\n",
       "      <td>paid_ads</td>\n",
       "      <td>retail</td>\n",
       "      <td>2</td>\n",
       "      <td>83843.0</td>\n",
       "      <td>NaN</td>\n",
       "      <td>australia</td>\n",
       "      <td>1</td>\n",
       "      <td>0.87</td>\n",
       "      <td>0</td>\n",
       "    </tr>\n",
       "    <tr>\n",
       "      <th>4</th>\n",
       "      <td>referral</td>\n",
       "      <td>education</td>\n",
       "      <td>3</td>\n",
       "      <td>85012.0</td>\n",
       "      <td>self_employed</td>\n",
       "      <td>europe</td>\n",
       "      <td>3</td>\n",
       "      <td>0.62</td>\n",
       "      <td>1</td>\n",
       "    </tr>\n",
       "  </tbody>\n",
       "</table>\n",
       "</div>"
      ],
      "text/plain": [
       "    lead_source    industry  number_of_courses_viewed  annual_income  \\\n",
       "0      paid_ads         NaN                         1        79450.0   \n",
       "1  social_media      retail                         1        46992.0   \n",
       "2        events  healthcare                         5        78796.0   \n",
       "3      paid_ads      retail                         2        83843.0   \n",
       "4      referral   education                         3        85012.0   \n",
       "\n",
       "  employment_status       location  interaction_count  lead_score  converted  \n",
       "0        unemployed  south_america                  4        0.94          1  \n",
       "1          employed  south_america                  1        0.80          0  \n",
       "2        unemployed      australia                  3        0.69          1  \n",
       "3               NaN      australia                  1        0.87          0  \n",
       "4     self_employed         europe                  3        0.62          1  "
      ]
     },
     "execution_count": 5,
     "metadata": {},
     "output_type": "execute_result"
    }
   ],
   "source": [
    "df.head(5)"
   ]
  },
  {
   "cell_type": "code",
   "execution_count": 6,
   "id": "c036b80c-eeb1-4b65-b199-3ed0655504bd",
   "metadata": {},
   "outputs": [
    {
     "data": {
      "text/plain": [
       "lead_source                 128\n",
       "industry                    134\n",
       "number_of_courses_viewed      0\n",
       "annual_income               181\n",
       "employment_status           100\n",
       "location                     63\n",
       "interaction_count             0\n",
       "lead_score                    0\n",
       "converted                     0\n",
       "dtype: int64"
      ]
     },
     "execution_count": 6,
     "metadata": {},
     "output_type": "execute_result"
    }
   ],
   "source": [
    "df.isnull().sum()"
   ]
  },
  {
   "cell_type": "code",
   "execution_count": 7,
   "id": "37d656f4-eeb8-4887-b4ae-f393df11ae75",
   "metadata": {},
   "outputs": [],
   "source": [
    "categorical_columns = list(df.dtypes[df.dtypes == 'object'].index)"
   ]
  },
  {
   "cell_type": "code",
   "execution_count": 8,
   "id": "086fbc68-1c20-4c73-8b6c-5e91a00da986",
   "metadata": {},
   "outputs": [],
   "source": [
    "# Assuming df is your DataFrame\n",
    "for col in df.columns:\n",
    "    if df[col].dtype == 'object':  # Categorical feature\n",
    "        df[col] = df[col].fillna('NA')\n",
    "    else:  # Numerical feature\n",
    "        df[col] = df[col].fillna(0.0)"
   ]
  },
  {
   "cell_type": "code",
   "execution_count": 9,
   "id": "df6e8445-eb82-4f7c-a34e-bcdfc345e92f",
   "metadata": {},
   "outputs": [
    {
     "data": {
      "text/plain": [
       "lead_source                 0\n",
       "industry                    0\n",
       "number_of_courses_viewed    0\n",
       "annual_income               0\n",
       "employment_status           0\n",
       "location                    0\n",
       "interaction_count           0\n",
       "lead_score                  0\n",
       "converted                   0\n",
       "dtype: int64"
      ]
     },
     "execution_count": 9,
     "metadata": {},
     "output_type": "execute_result"
    }
   ],
   "source": [
    "df.isnull().sum()"
   ]
  },
  {
   "cell_type": "code",
   "execution_count": 10,
   "id": "0056ade1-d0ff-4cc6-a4aa-d873c14e6e6d",
   "metadata": {},
   "outputs": [],
   "source": [
    "df_full_train, df_test = train_test_split(df, test_size=0.2, random_state=1)\n",
    "df_train, df_val = train_test_split(df_full_train, test_size=0.25, random_state=1)\n",
    "\n",
    "df_train = df_train.reset_index(drop=True)\n",
    "df_val = df_val.reset_index(drop=True)\n",
    "df_test = df_test.reset_index(drop=True)\n",
    "\n",
    "y_train = df_train.converted.values\n",
    "y_val = df_val.converted.values\n",
    "y_test = df_test.converted.values\n",
    "\n",
    "del df_train['converted']\n",
    "del df_val['converted']\n",
    "del df_test['converted']"
   ]
  },
  {
   "cell_type": "code",
   "execution_count": 21,
   "id": "62332950-a497-4c1b-b707-acab9e9794c3",
   "metadata": {},
   "outputs": [
    {
     "data": {
      "text/plain": [
       "(876, 293, 293)"
      ]
     },
     "execution_count": 21,
     "metadata": {},
     "output_type": "execute_result"
    }
   ],
   "source": [
    "len(df_train), len(df_val), len(df_test)"
   ]
  },
  {
   "cell_type": "code",
   "execution_count": 11,
   "id": "81034bf6-7e0d-4da7-8a8d-5314728f8c70",
   "metadata": {},
   "outputs": [
    {
     "data": {
      "text/plain": [
       "lead_source                  object\n",
       "industry                     object\n",
       "number_of_courses_viewed      int64\n",
       "annual_income               float64\n",
       "employment_status            object\n",
       "location                     object\n",
       "interaction_count             int64\n",
       "lead_score                  float64\n",
       "converted                     int64\n",
       "dtype: object"
      ]
     },
     "execution_count": 11,
     "metadata": {},
     "output_type": "execute_result"
    }
   ],
   "source": [
    "df.dtypes"
   ]
  },
  {
   "cell_type": "code",
   "execution_count": 12,
   "id": "22d221b8-a511-45b2-9366-4b0f85d82c0a",
   "metadata": {},
   "outputs": [],
   "source": [
    "numerical = ['number_of_courses_viewed', 'annual_income','interaction_count','lead_score']\n",
    "\n",
    "categorical = ['lead_source','industry','employment_status','location']"
   ]
  },
  {
   "cell_type": "code",
   "execution_count": 13,
   "id": "21ede380-c302-41a9-8749-f77345751a20",
   "metadata": {},
   "outputs": [
    {
     "name": "stdout",
     "output_type": "stream",
     "text": [
      "AUC for number_of_courses_viewed: 0.7636\n",
      "AUC for annual_income: 0.5520\n",
      "AUC for interaction_count: 0.7383\n",
      "AUC for lead_score: 0.6145\n",
      "\n",
      "🔍 The numerical variable with the highest AUC is: **number_of_courses_viewed** with AUC = 0.7636\n"
     ]
    }
   ],
   "source": [
    "from sklearn.metrics import roc_auc_score\n",
    "\n",
    "\n",
    "best_auc = 0\n",
    "best_var = None\n",
    "\n",
    "for var in numerical:\n",
    "    scores = df_train[var]\n",
    "    auc = roc_auc_score(y_train, scores)\n",
    "    \n",
    "    # Invert if negatively correlated\n",
    "    if auc < 0.5:\n",
    "        scores = -scores\n",
    "        auc = roc_auc_score(y_train, scores)\n",
    "    \n",
    "    print(f\"AUC for {var}: {auc:.4f}\")\n",
    "    \n",
    "    if auc > best_auc:\n",
    "        best_auc = auc\n",
    "        best_var = var\n",
    "\n",
    "print(f\"\\n The numerical variable with the highest AUC is: **{best_var}** with AUC = {best_auc:.4f}\")\n"
   ]
  },
  {
   "cell_type": "markdown",
   "id": "21dc53fb-fa40-4059-8b5d-73fc2651729e",
   "metadata": {},
   "source": [
    "## Question 2: Training the model"
   ]
  },
  {
   "cell_type": "code",
   "execution_count": 14,
   "id": "2dfdbf7e-2b37-4315-a1fa-56597de513ea",
   "metadata": {},
   "outputs": [],
   "source": [
    "def train(df_train, y_train):\n",
    "    dicts = df_train[categorical + numerical].to_dict(orient='records')\n",
    "\n",
    "    dv = DictVectorizer(sparse=False)\n",
    "    X_train = dv.fit_transform(dicts)\n",
    "\n",
    "    model = LogisticRegression(solver='liblinear', C=1.0, max_iter=1000)\n",
    "    model.fit(X_train, y_train)\n",
    "    \n",
    "    return dv, model"
   ]
  },
  {
   "cell_type": "code",
   "execution_count": 15,
   "id": "74882a9a-2eeb-4188-94ae-13c3e21bab65",
   "metadata": {},
   "outputs": [],
   "source": [
    "dv, model = train(df_train, y_train)"
   ]
  },
  {
   "cell_type": "code",
   "execution_count": 16,
   "id": "45e3814a-e983-4a25-b744-48ceac0b2c9b",
   "metadata": {},
   "outputs": [],
   "source": [
    "def predict(df, dv, model):\n",
    "    dicts = df[categorical + numerical].to_dict(orient='records')\n",
    "\n",
    "    X = dv.transform(dicts)\n",
    "    y_pred = model.predict_proba(X)[:, 1]\n",
    "\n",
    "    return y_pred"
   ]
  },
  {
   "cell_type": "code",
   "execution_count": 17,
   "id": "478a3c85-dd2d-4764-9afd-880d26801448",
   "metadata": {},
   "outputs": [],
   "source": [
    "y_pred = predict(df_val, dv, model)"
   ]
  },
  {
   "cell_type": "code",
   "execution_count": 18,
   "id": "a3dda6c8-1ffe-4d0b-94bd-8bda8bbd2144",
   "metadata": {},
   "outputs": [],
   "source": [
    "auc = roc_auc_score(y_val, y_pred)"
   ]
  },
  {
   "cell_type": "code",
   "execution_count": 20,
   "id": "f76b7c88-2508-417d-876c-397f80b48438",
   "metadata": {},
   "outputs": [
    {
     "data": {
      "text/plain": [
       "0.817"
      ]
     },
     "execution_count": 20,
     "metadata": {},
     "output_type": "execute_result"
    }
   ],
   "source": [
    "round(auc,3)"
   ]
  },
  {
   "cell_type": "markdown",
   "id": "20972a8a-c960-4193-899b-c1b806fd9fbc",
   "metadata": {},
   "source": [
    "## Question 3: Precision and Recall"
   ]
  },
  {
   "cell_type": "code",
   "execution_count": 26,
   "id": "bca6adb7-1481-4171-b7d0-59523514bc8e",
   "metadata": {},
   "outputs": [
    {
     "data": {
      "text/plain": [
       "<matplotlib.legend.Legend at 0x7ad145fa7fe0>"
      ]
     },
     "execution_count": 26,
     "metadata": {},
     "output_type": "execute_result"
    },
    {
     "data": {
      "image/png": "[encoded data removed]",
      "text/plain": [
       "<Figure size 640x480 with 1 Axes>"
      ]
     },
     "metadata": {},
     "output_type": "display_data"
    }
   ],
   "source": [
    "scores = []\n",
    "\n",
    "thresholds = thresholds = np.arange(0.0, 1.01, 0.01)#np.linspace(0, 1.0, 101)\n",
    "\n",
    "\n",
    "for t in thresholds:\n",
    "    y_val_binary = (y_pred >= t).astype(int)\n",
    "\n",
    "    # Calculate Precision and Recall\n",
    "    p = precision_score(y_val, y_val_binary, zero_division=0)\n",
    "    r = recall_score(y_val, y_val_binary)\n",
    "\n",
    "    scores.append((t, p, r))\n",
    "\n",
    "columns = [\"threshold\", \"precision\", \"recall\"]\n",
    "df_scores = pd.DataFrame(scores, columns=columns)\n",
    "\n",
    "plt.plot(df_scores.threshold, df_scores['precision'], label='precision')\n",
    "plt.plot(df_scores.threshold, df_scores['recall'], label='recall')\n",
    "plt.legend()\n",
    "\n"
   ]
  },
  {
   "cell_type": "code",
   "execution_count": 35,
   "id": "5fcf10a0-a702-40f9-82e9-9a7b6986e425",
   "metadata": {},
   "outputs": [
    {
     "name": "stdout",
     "output_type": "stream",
     "text": [
      "Precision and recall curves intersect at threshold: 0.640\n"
     ]
    }
   ],
   "source": [
    "# Absolute difference between precision and recall\n",
    "df_scores[\"diff\"] = np.abs(df_scores[\"precision\"] - df_scores[\"recall\"])\n",
    "\n",
    "# Find the threshold where this difference is minimal\n",
    "intersection_threshold = (\n",
    "    df_scores.query(\"precision != 0 & recall != 0\")\n",
    "    .sort_values(by=\"diff\")\n",
    "    .head(1)[\"threshold\"]\n",
    "    .values[0]\n",
    ")\n",
    "\n",
    "print(f\"Precision and recall curves intersect at threshold: {intersection_threshold:.3f}\")"
   ]
  },
  {
   "cell_type": "markdown",
   "id": "1eb82cf9-16f5-4b1d-b1d7-055d5e7bb2e8",
   "metadata": {},
   "source": [
    "## Question 4: F1 score"
   ]
  },
  {
   "cell_type": "code",
   "execution_count": 30,
   "id": "e18ae204-522d-4655-b9d9-c96aaac5ea37",
   "metadata": {},
   "outputs": [],
   "source": [
    "thresholds = np.arange(0.0, 1.01, 0.01)\n",
    "scores = []\n",
    "\n",
    "for t in thresholds:\n",
    "    y_pred_binary = (y_pred >= t).astype(int)\n",
    "    p = precision_score(y_val, y_pred_binary, zero_division=0)\n",
    "    r = recall_score(y_val, y_pred_binary)\n",
    "    \n",
    "    if p + r == 0:\n",
    "        f1 = 0\n",
    "    else:\n",
    "        f1 = 2 * p * r / (p + r)\n",
    "    \n",
    "    scores.append((t, p, r, f1))\n",
    "\n",
    "# Create DataFrame\n",
    "df_f1 = pd.DataFrame(scores, columns=[\"threshold\", \"precision\", \"recall\", \"f1\"])"
   ]
  },
  {
   "cell_type": "code",
   "execution_count": 31,
   "id": "4eef3fb4-5d99-49d0-a833-baf9711411ac",
   "metadata": {},
   "outputs": [
    {
     "data": {
      "image/png": "[encoded data removed]",
      "text/plain": [
       "<Figure size 1000x600 with 1 Axes>"
      ]
     },
     "metadata": {},
     "output_type": "display_data"
    }
   ],
   "source": [
    "# Plot F1 score\n",
    "plt.figure(figsize=(10, 6))\n",
    "plt.plot(df_f1[\"threshold\"], df_f1[\"f1\"], label=\"F1 Score\", color='green')\n",
    "plt.xlabel(\"Threshold\")\n",
    "plt.ylabel(\"F1 Score\")\n",
    "plt.title(\"F1 Score vs Threshold\")\n",
    "plt.grid(True)\n",
    "plt.legend()\n",
    "plt.show()\n",
    "\n"
   ]
  },
  {
   "cell_type": "code",
   "execution_count": 34,
   "id": "38ff8a2d-c70c-46f9-a2d6-20ee1e9bc791",
   "metadata": {},
   "outputs": [
    {
     "name": "stdout",
     "output_type": "stream",
     "text": [
      "Max F1 Score: 0.8125 at threshold: 0.57\n"
     ]
    }
   ],
   "source": [
    "# Find threshold where F1 is maximal\n",
    "best_f1_row = df_f1.loc[df_f1[\"f1\"].idxmax()]\n",
    "best_threshold = best_f1_row[\"threshold\"]\n",
    "best_f1 = best_f1_row[\"f1\"]\n",
    "\n",
    "print(f\"Max F1 Score: {best_f1:.4f} at threshold: {best_threshold:.2f}\")"
   ]
  },
  {
   "cell_type": "markdown",
   "id": "7d45fcdd-1923-4331-af9c-b6c350a6e06b",
   "metadata": {},
   "source": [
    "## Question 5: 5-Fold CV"
   ]
  },
  {
   "cell_type": "code",
   "execution_count": 55,
   "id": "8091d4d9-6447-4542-ba25-b2c59212be4d",
   "metadata": {},
   "outputs": [],
   "source": [
    "def train(df_train, y_train, C=1.0):\n",
    "    dicts = df_train[categorical + numerical].to_dict(orient='records')\n",
    "\n",
    "    dv = DictVectorizer(sparse=False)\n",
    "    X_train = dv.fit_transform(dicts)\n",
    "\n",
    "    model = LogisticRegression(solver='liblinear', C=C, max_iter=1000)\n",
    "    model.fit(X_train, y_train)\n",
    "    \n",
    "    return dv, model"
   ]
  },
  {
   "cell_type": "code",
   "execution_count": 56,
   "id": "8834d517-efc9-4229-8e4c-83fdb2cbd468",
   "metadata": {},
   "outputs": [],
   "source": [
    "def predict(df, dv, model):\n",
    "    dicts = df[categorical + numerical].to_dict(orient='records')\n",
    "\n",
    "    X = dv.transform(dicts)\n",
    "    y_pred = model.predict_proba(X)[:, 1]\n",
    "\n",
    "    return y_pred"
   ]
  },
  {
   "cell_type": "code",
   "execution_count": 42,
   "id": "31b2be64-a0b6-4389-a761-1b752a49cc19",
   "metadata": {},
   "outputs": [
    {
     "name": "stdout",
     "output_type": "stream",
     "text": [
      "Collecting tqdm\n",
      "  Downloading tqdm-4.67.1-py3-none-any.whl.metadata (57 kB)\n",
      "Downloading tqdm-4.67.1-py3-none-any.whl (78 kB)\n",
      "Installing collected packages: tqdm\n",
      "Successfully installed tqdm-4.67.1\n",
      "\n",
      "\u001b[1m[\u001b[0m\u001b[34;49mnotice\u001b[0m\u001b[1;39;49m]\u001b[0m\u001b[39;49m A new release of pip is available: \u001b[0m\u001b[31;49m25.1.1\u001b[0m\u001b[39;49m -> \u001b[0m\u001b[32;49m25.2\u001b[0m\n",
      "\u001b[1m[\u001b[0m\u001b[34;49mnotice\u001b[0m\u001b[1;39;49m]\u001b[0m\u001b[39;49m To update, run: \u001b[0m\u001b[32;49mpython3 -m pip install --upgrade pip\u001b[0m\n"
     ]
    }
   ],
   "source": [
    "\n",
    "!pip install tqdm"
   ]
  },
  {
   "cell_type": "code",
   "execution_count": 50,
   "id": "05faa922-6f55-425e-9195-a17ec098f3ee",
   "metadata": {},
   "outputs": [],
   "source": [
    "from tqdm.auto import tqdm"
   ]
  },
  {
   "cell_type": "code",
   "execution_count": 52,
   "id": "ba2c66c8-6c00-48dd-9ab7-ac2631d10fd8",
   "metadata": {},
   "outputs": [
    {
     "data": {
      "application/vnd.jupyter.widget-view+json": {
       "model_id": "b84a3ff26a5b4fd1a21ff18cc0611311",
       "version_major": 2,
       "version_minor": 0
      },
      "text/plain": [
       "  0%|          | 0/7 [00:00<?, ?it/s]"
      ]
     },
     "metadata": {},
     "output_type": "display_data"
    },
    {
     "name": "stdout",
     "output_type": "stream",
     "text": [
      "C=0.001 0.822 +- 0.036\n",
      "C=0.01 0.822 +- 0.036\n",
      "C=0.1 0.822 +- 0.036\n",
      "C=0.5 0.822 +- 0.036\n",
      "C=1 0.822 +- 0.036\n",
      "C=5 0.822 +- 0.036\n",
      "C=10 0.822 +- 0.036\n"
     ]
    }
   ],
   "source": [
    "n_splits = 5\n",
    "\n",
    "for C in tqdm([0.001, 0.01, 0.1, 0.5, 1, 5, 10]):\n",
    "    kfold = KFold(n_splits=n_splits, shuffle=True, random_state=1)\n",
    "\n",
    "    scores = []\n",
    "\n",
    "    for train_idx, val_idx in kfold.split(df_full_train):\n",
    "        df_train = df_full_train.iloc[train_idx]\n",
    "        df_val = df_full_train.iloc[val_idx]\n",
    "\n",
    "        y_train = df_train.converted.values\n",
    "        y_val = df_val.converted.values\n",
    "\n",
    "        dv, model = train(df_train, y_train)\n",
    "        y_pred = predict(df_val, dv, model)\n",
    "\n",
    "        auc = roc_auc_score(y_val, y_pred)\n",
    "        scores.append(auc)\n",
    "\n",
    "    print('C=%s %.3f +- %.3f' % (C, np.mean(scores), np.std(scores)))"
   ]
  },
  {
   "cell_type": "code",
   "execution_count": 53,
   "id": "a066e296-7310-4c71-9957-1f8f740c93d4",
   "metadata": {},
   "outputs": [
    {
     "data": {
      "text/plain": [
       "[0.8060745924216483,\n",
       " 0.8713738368910783,\n",
       " 0.7754320118852139,\n",
       " 0.8018368617683685,\n",
       " 0.8558272713202291]"
      ]
     },
     "execution_count": 53,
     "metadata": {},
     "output_type": "execute_result"
    }
   ],
   "source": [
    "scores"
   ]
  },
  {
   "cell_type": "code",
   "execution_count": 65,
   "id": "b208d883-d6d9-48d6-ab9f-44d340182f49",
   "metadata": {},
   "outputs": [
    {
     "name": "stdout",
     "output_type": "stream",
     "text": [
      "Standard deviation (population): 0.0358\n"
     ]
    }
   ],
   "source": [
    "std = np.std(scores)\n",
    "\n",
    "print(f\"Standard deviation (population): {std:.4f}\")"
   ]
  },
  {
   "cell_type": "markdown",
   "id": "e8f9b96b-fd1e-4fa4-be29-65dde508dd46",
   "metadata": {},
   "source": [
    "## Question 6: Hyperparameter Tuning"
   ]
  },
  {
   "cell_type": "code",
   "execution_count": 63,
   "id": "e83f9743-505c-4055-ac2a-ce58f69bc54d",
   "metadata": {},
   "outputs": [
    {
     "data": {
      "application/vnd.jupyter.widget-view+json": {
       "model_id": "df7988009c124bdfa1cdffe17caa5c28",
       "version_major": 2,
       "version_minor": 0
      },
      "text/plain": [
       "  0%|          | 0/3 [00:00<?, ?it/s]"
      ]
     },
     "metadata": {},
     "output_type": "display_data"
    },
    {
     "name": "stdout",
     "output_type": "stream",
     "text": [
      "C = 0.000001 | Mean AUC: 0.560 | Std: 0.024\n",
      "C = 0.001000 | Mean AUC: 0.867 | Std: 0.029\n",
      "C = 1.000000 | Mean AUC: 0.822 | Std: 0.036\n"
     ]
    }
   ],
   "source": [
    "n_splits = 5\n",
    "\n",
    "HPT_results = {}\n",
    "\n",
    "for C in tqdm([0.000001, 0.001, 1]):\n",
    "    kfold = KFold(n_splits=n_splits, shuffle=True, random_state=1)\n",
    "\n",
    "    scores = []\n",
    "\n",
    "    for train_idx, val_idx in kfold.split(df_full_train):\n",
    "        df_train = df_full_train.iloc[train_idx]\n",
    "        df_val = df_full_train.iloc[val_idx]\n",
    "\n",
    "        y_train = df_train.converted.values\n",
    "        y_val = df_val.converted.values\n",
    "\n",
    "        dv, model = train(df_train, y_train, C=C)\n",
    "        y_pred = predict(df_val, dv, model)\n",
    "\n",
    "        auc = roc_auc_score(y_val, y_pred)\n",
    "        scores.append(auc)\n",
    "\n",
    "    # Calculate mean and std for this C\n",
    "    mean_auc = np.mean(scores)\n",
    "    std_auc = np.std(scores)\n",
    "\n",
    "    HPT_results[C] = {\"mean_auc\": mean_auc, \"std_auc\": std_auc}\n",
    "\n",
    "    print(f\"C = {C:<8.6f} | Mean AUC: {mean_auc:.3f} | Std: {std_auc:.3f}\")"
   ]
  },
  {
   "cell_type": "code",
   "execution_count": 64,
   "id": "7a6cb929-1be2-47b4-b3d5-e608c6454168",
   "metadata": {},
   "outputs": [
    {
     "name": "stdout",
     "output_type": "stream",
     "text": [
      "\n",
      "Cross-validation results:\n",
      "          C  mean_auc  std_auc\n",
      "0  0.000001     0.560    0.024\n",
      "1  0.001000     0.867    0.029\n",
      "2  1.000000     0.822    0.036\n",
      "\n",
      "🏆 Best C: 0.001 with mean AUC: 0.867 and std: 0.029\n"
     ]
    }
   ],
   "source": [
    "# Convert results to DataFrame for easier sorting and viewing\n",
    "df_hpt = pd.DataFrame([\n",
    "    {\"C\": C, \n",
    "     \"mean_auc\": round(res[\"mean_auc\"], 3), \n",
    "     \"std_auc\": round(res[\"std_auc\"], 3)}\n",
    "    for C, res in HPT_results.items()\n",
    "])\n",
    "\n",
    "# Apply the selection rules:\n",
    "# 1. Highest mean_auc\n",
    "# 2. If tie, lowest std_auc\n",
    "# 3. If still tie, smallest C\n",
    "df_hpt_sorted = df_hpt.sort_values(by=[\"mean_auc\", \"std_auc\", \"C\"], ascending=[False, True, True])\n",
    "\n",
    "best_C = df_hpt_sorted.iloc[0][\"C\"]\n",
    "\n",
    "print(\"\\nCross-validation results:\")\n",
    "print(df_hpt)\n",
    "\n",
    "print(f\"\\n🏆 Best C: {best_C} with mean AUC: {df_hpt_sorted.iloc[0]['mean_auc']:.3f} \"\n",
    "      f\"and std: {df_hpt_sorted.iloc[0]['std_auc']:.3f}\")\n"
   ]
  },
  {
   "cell_type": "code",
   "execution_count": null,
   "id": "60955a8a-22c3-497b-ba03-f341cd6799c0",
   "metadata": {},
   "outputs": [],
   "source": []
  }
 ],
 "metadata": {
  "kernelspec": {
   "display_name": "Python 3 (ipykernel)",
   "language": "python",
   "name": "python3"
  },
  "language_info": {
   "codemirror_mode": {
    "name": "ipython",
    "version": 3
   },
   "file_extension": ".py",
   "mimetype": "text/x-python",
   "name": "python",
   "nbconvert_exporter": "python",
   "pygments_lexer": "ipython3",
   "version": "3.12.1"
  }
 },
 "nbformat": 4,
 "nbformat_minor": 5
}
